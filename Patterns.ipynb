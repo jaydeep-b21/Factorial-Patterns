{
 "cells": [
  {
   "cell_type": "markdown",
   "metadata": {},
   "source": [
    "### Factorial"
   ]
  },
  {
   "cell_type": "code",
   "execution_count": 1,
   "metadata": {},
   "outputs": [
    {
     "name": "stdout",
     "output_type": "stream",
     "text": [
      "The factorial of 5 is : 120\n"
     ]
    }
   ],
   "source": [
    "import math\n",
    "  \n",
    "print(\"The factorial of 5 is : \", end=\"\")\n",
    "print(math.factorial(5))"
   ]
  },
  {
   "cell_type": "markdown",
   "metadata": {},
   "source": [
    "### Patterns stars"
   ]
  },
  {
   "cell_type": "code",
   "execution_count": 2,
   "metadata": {},
   "outputs": [
    {
     "name": "stdout",
     "output_type": "stream",
     "text": [
      "*\n",
      "**\n",
      "***\n",
      "****\n",
      "*****\n"
     ]
    }
   ],
   "source": [
    "def pattern(n):\n",
    "    myList = []\n",
    "    for i in range (1, n+1):\n",
    "        myList.append(\"*\"*i)\n",
    "    print(\"\\n\".join(myList))\n",
    "\n",
    "#Driver Code\n",
    "n=5\n",
    "pattern(n)"
   ]
  },
  {
   "cell_type": "markdown",
   "metadata": {},
   "source": [
    "###### 180 degree"
   ]
  },
  {
   "cell_type": "code",
   "execution_count": 5,
   "metadata": {},
   "outputs": [
    {
     "name": "stdout",
     "output_type": "stream",
     "text": [
      "        * \r\n",
      "      * * \r\n",
      "    * * * \r\n",
      "  * * * * \r\n",
      "* * * * * \r\n"
     ]
    }
   ],
   "source": [
    "def pattern(n):\n",
    "    #number of spaces\n",
    "    k= 2*n-2\n",
    "\n",
    "    #outer loop for rows\n",
    "    for i in range (0, n):\n",
    "        \n",
    "        #inner loop for spaces\n",
    "        for j in range (0, k):\n",
    "            print (end=\" \")\n",
    "            \n",
    "        #decreasing k for each loop\n",
    "        k= k-2\n",
    "        \n",
    "        #inner loop for columns\n",
    "        for j in range(0, i+1):\n",
    "            print(\"*\", end=\" \")\n",
    "        print(\"\\r\")\n",
    "        \n",
    "#Driver code\n",
    "n=5\n",
    "pattern(n)"
   ]
  },
  {
   "cell_type": "markdown",
   "metadata": {},
   "source": [
    "##### triangle"
   ]
  },
  {
   "cell_type": "code",
   "execution_count": 6,
   "metadata": {},
   "outputs": [
    {
     "name": "stdout",
     "output_type": "stream",
     "text": [
      "    * \r\n",
      "   * * \r\n",
      "  * * * \r\n",
      " * * * * \r\n",
      "* * * * * \r\n"
     ]
    }
   ],
   "source": [
    "def pattern(n):\n",
    "    #number of spaces\n",
    "    k = n-1\n",
    "    \n",
    "    #outer loop for rows\n",
    "    for i in range (0,n):\n",
    "        \n",
    "        #inner loop for spaces\n",
    "        for j in range (0,k):\n",
    "            print(end=\" \")\n",
    "            \n",
    "        #decreasing k for each loop\n",
    "        k= k-1\n",
    "        \n",
    "        #inner loop for columns\n",
    "        for j in range(0, i+1):\n",
    "            print(\"*\", end=\" \")\n",
    "        \n",
    "        print(\"\\r\")\n",
    "\n",
    "#Driver code\n",
    "n=5\n",
    "pattern(n)"
   ]
  },
  {
   "cell_type": "code",
   "execution_count": 8,
   "metadata": {},
   "outputs": [
    {
     "name": "stdout",
     "output_type": "stream",
     "text": [
      "1 \r\n",
      "1 2 \r\n",
      "1 2 3 \r\n",
      "1 2 3 4 \r\n",
      "1 2 3 4 5 \r\n"
     ]
    }
   ],
   "source": [
    "def numpat(n):\n",
    "    num=1\n",
    "    #outer loop for rows\n",
    "    for i in range(0,n):\n",
    "        \n",
    "        num=1\n",
    "        #inner loop for columns\n",
    "        for j in range(0,i+1):\n",
    "            \n",
    "            print(num, end=\" \")\n",
    "            #increasing number at each loop\n",
    "            num = num+1\n",
    "        \n",
    "        print(\"\\r\")\n",
    "\n",
    "#Driver code\n",
    "n=5\n",
    "numpat(n)"
   ]
  },
  {
   "cell_type": "code",
   "execution_count": null,
   "metadata": {},
   "outputs": [],
   "source": []
  }
 ],
 "metadata": {
  "kernelspec": {
   "display_name": "Python 3",
   "language": "python",
   "name": "python3"
  },
  "language_info": {
   "codemirror_mode": {
    "name": "ipython",
    "version": 3
   },
   "file_extension": ".py",
   "mimetype": "text/x-python",
   "name": "python",
   "nbconvert_exporter": "python",
   "pygments_lexer": "ipython3",
   "version": "3.8.5"
  }
 },
 "nbformat": 4,
 "nbformat_minor": 4
}
